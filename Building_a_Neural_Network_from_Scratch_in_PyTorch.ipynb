{
  "nbformat": 4,
  "nbformat_minor": 0,
  "metadata": {
    "colab": {
      "name": "Building a Neural Network from Scratch in PyTorch.ipynb",
      "provenance": [],
      "authorship_tag": "ABX9TyOTYgGiqN5/abXblfcL8EbD",
      "include_colab_link": true
    },
    "kernelspec": {
      "name": "python3",
      "display_name": "Python 3"
    }
  },
  "cells": [
    {
      "cell_type": "markdown",
      "metadata": {
        "id": "view-in-github",
        "colab_type": "text"
      },
      "source": [
        "<a href=\"https://colab.research.google.com/github/DineshChauhan/Deep-Tutorials-for-PyTorch/blob/master/Building_a_Neural_Network_from_Scratch_in_PyTorch.ipynb\" target=\"_parent\"><img src=\"https://colab.research.google.com/assets/colab-badge.svg\" alt=\"Open In Colab\"/></a>"
      ]
    },
    {
      "cell_type": "code",
      "metadata": {
        "id": "NmBwHrB639OA",
        "colab_type": "code",
        "colab": {}
      },
      "source": [
        "import numpy as np\n",
        "import torch "
      ],
      "execution_count": 0,
      "outputs": []
    },
    {
      "cell_type": "code",
      "metadata": {
        "id": "ohA5JAZQCxuz",
        "colab_type": "code",
        "colab": {}
      },
      "source": [
        "#input Tensor\n",
        "x = torch.Tensor([[1,0,1,0],[1,0,1,1],[0,1,0,1]])\n",
        "#Output\n",
        "y = torch.Tensor(([1],[1],[0]))"
      ],
      "execution_count": 0,
      "outputs": []
    },
    {
      "cell_type": "code",
      "metadata": {
        "id": "mwXLRS9JDDF6",
        "colab_type": "code",
        "colab": {
          "base_uri": "https://localhost:8080/",
          "height": 35
        },
        "outputId": "024508cc-c133-4625-9224-577acc205338"
      },
      "source": [
        "x.shape,y.shape"
      ],
      "execution_count": 125,
      "outputs": [
        {
          "output_type": "execute_result",
          "data": {
            "text/plain": [
              "(torch.Size([3, 4]), torch.Size([3, 1]))"
            ]
          },
          "metadata": {
            "tags": []
          },
          "execution_count": 125
        }
      ]
    },
    {
      "cell_type": "code",
      "metadata": {
        "id": "069vwkgxDFp4",
        "colab_type": "code",
        "colab": {}
      },
      "source": [
        "#Sigmoid Function\n",
        "def sigmoid(x):\n",
        "  return 1/(1+torch.exp(-x))\n",
        "\n",
        "#Derivative of Sigmoid Function\n",
        "def derivatives_sigmoid(x):\n",
        "  return x*(1-x)"
      ],
      "execution_count": 0,
      "outputs": []
    },
    {
      "cell_type": "code",
      "metadata": {
        "id": "tEXWPYcrDkik",
        "colab_type": "code",
        "colab": {}
      },
      "source": [
        "#define number of times model will run & Learning rate etc.\n",
        "epoch = 7000\n",
        "lr =0.1\n",
        "inputlayer_neurons = x.shape[1]\n",
        "hiddenlayer_neurons = 3\n",
        "output_neurons =1"
      ],
      "execution_count": 0,
      "outputs": []
    },
    {
      "cell_type": "code",
      "metadata": {
        "id": "OdK3uc_gEmwy",
        "colab_type": "code",
        "colab": {
          "base_uri": "https://localhost:8080/",
          "height": 71
        },
        "outputId": "5c5411f8-569a-48d0-eefa-643af5e2a9bc"
      },
      "source": [
        "print(inputlayer_neurons),print(hiddenlayer_neurons)"
      ],
      "execution_count": 135,
      "outputs": [
        {
          "output_type": "stream",
          "text": [
            "4\n",
            "3\n"
          ],
          "name": "stdout"
        },
        {
          "output_type": "execute_result",
          "data": {
            "text/plain": [
              "(None, None)"
            ]
          },
          "metadata": {
            "tags": []
          },
          "execution_count": 135
        }
      ]
    },
    {
      "cell_type": "code",
      "metadata": {
        "id": "T1TDQt4LETaS",
        "colab_type": "code",
        "colab": {}
      },
      "source": [
        "#Intialise Weight & Biases with random numbers\n",
        "wh = torch.randn(inputlayer_neurons,hiddenlayer_neurons).type(torch.FloatTensor)\n",
        "bh = torch.randn(1,hiddenlayer_neurons).type(torch.FloatTensor)\n",
        "wout= torch.rand(hiddenlayer_neurons,output_neurons)\n",
        "bout=torch.randn(1,output_neurons)"
      ],
      "execution_count": 0,
      "outputs": []
    },
    {
      "cell_type": "code",
      "metadata": {
        "id": "Gzcf_xAIEvrd",
        "colab_type": "code",
        "colab": {
          "base_uri": "https://localhost:8080/",
          "height": 196
        },
        "outputId": "11b9ddb2-5cbb-4944-d198-4d9efc0947ce"
      },
      "source": [
        "print(wh),print(bh),print(wout),print(bout)"
      ],
      "execution_count": 137,
      "outputs": [
        {
          "output_type": "stream",
          "text": [
            "tensor([[ 0.1344,  0.3270, -0.7251],\n",
            "        [ 0.9491,  0.8158,  1.2328],\n",
            "        [-0.4021,  2.2354, -0.6518],\n",
            "        [ 0.2390,  1.1505, -0.7792]])\n",
            "tensor([[ 0.1173, -0.9270,  2.0356]])\n",
            "tensor([[0.1446],\n",
            "        [0.7816],\n",
            "        [0.6959]])\n",
            "tensor([[-1.2702]])\n"
          ],
          "name": "stdout"
        },
        {
          "output_type": "execute_result",
          "data": {
            "text/plain": [
              "(None, None, None, None)"
            ]
          },
          "metadata": {
            "tags": []
          },
          "execution_count": 137
        }
      ]
    },
    {
      "cell_type": "code",
      "metadata": {
        "id": "asYAUtroDvEV",
        "colab_type": "code",
        "colab": {}
      },
      "source": [
        "for i in range(epoch):\n",
        "  #Forward Propogation\n",
        "  #multiply input matrix with weights\n",
        "  hidden_layer_input1 = torch.mm(x,wh)\n",
        "  #Now add biases to output matrix\n",
        "  hidden_layer_input = hidden_layer_input1 + bh\n",
        "  # Apply activation function\n",
        "  hidden_layer_activation = sigmoid(hidden_layer_input)\n",
        "\n",
        "   #output layer is then multiplid with weights & biase is added\n",
        "  output_layer_input1 = torch.mm(hidden_layer_activation,wout)\n",
        "  output_layer_input = output_layer_input1 + bout\n",
        "  output = sigmoid(output_layer_input)\n",
        "  \n",
        "  #Backpropogation\n",
        "\n",
        "  E = y - output # this is your error\n",
        "  slope_output_layer = derivatives_sigmoid(output)\n",
        "  slope_hidden_layer = derivatives_sigmoid(hidden_layer_activation)\n",
        "\n",
        "  d_output = E * slope_output_layer\n",
        "\n",
        "  Error_at_hidden_layer = torch.mm(d_output,wout.t())\n",
        "  d_hiddenlayer = Error_at_hidden_layer * slope_hidden_layer\n",
        "\n",
        "  #update weights & Biases \n",
        "  wout += torch.mm(hidden_layer_activation.t(),d_output) * lr\n",
        "  bout += d_output.sum() * lr\n",
        "\n",
        "  wh += torch.mm(x.t(),d_hiddenlayer) * lr\n",
        "  bh += d_output.sum() * lr"
      ],
      "execution_count": 0,
      "outputs": []
    },
    {
      "cell_type": "code",
      "metadata": {
        "id": "lupw4NeIDwry",
        "colab_type": "code",
        "colab": {
          "base_uri": "https://localhost:8080/",
          "height": 178
        },
        "outputId": "452e4570-d871-441f-e137-aa73f79967b0"
      },
      "source": [
        "print('actual  :\\n',y,'\\n')\n",
        "print('predicted :\\n',output)"
      ],
      "execution_count": 139,
      "outputs": [
        {
          "output_type": "stream",
          "text": [
            "actual  :\n",
            " tensor([[1.],\n",
            "        [1.],\n",
            "        [0.]]) \n",
            "\n",
            "predicted :\n",
            " tensor([[0.9800],\n",
            "        [0.9767],\n",
            "        [0.0307]])\n"
          ],
          "name": "stdout"
        }
      ]
    },
    {
      "cell_type": "markdown",
      "metadata": {
        "id": "E4Q7NWlc9j3V",
        "colab_type": "text"
      },
      "source": [
        "# Solving an Image Classification Problem using PyTorch"
      ]
    },
    {
      "cell_type": "code",
      "metadata": {
        "id": "ykn_B94V8udk",
        "colab_type": "code",
        "colab": {}
      },
      "source": [
        ""
      ],
      "execution_count": 0,
      "outputs": []
    }
  ]
}